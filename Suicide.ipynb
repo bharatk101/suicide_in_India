{
 "cells": [
  {
   "cell_type": "markdown",
   "metadata": {},
   "source": [
    "# Analysis of Suicide in India"
   ]
  },
  {
   "cell_type": "markdown",
   "metadata": {},
   "source": [
    "## Warning - If you're having suicidal thoughts, please call suicide helpline! \n",
    "\n",
    "Suicide helpline numbers - http://www.suicide.org/international-suicide-hotlines.html\n"
   ]
  },
  {
   "cell_type": "markdown",
   "metadata": {},
   "source": [
    "This dataset contains data from 2001 -2012.\n",
    "\n",
    "Source - https://www.kaggle.com/rajanand/suicides-in-india"
   ]
  },
  {
   "cell_type": "code",
   "execution_count": 2,
   "metadata": {},
   "outputs": [],
   "source": [
    "# import packages\n",
    "\n",
    "import numpy as np\n",
    "import pandas as pd\n",
    "import matplotlib.pyplot as plt\n",
    "%matplotlib inline"
   ]
  },
  {
   "cell_type": "code",
   "execution_count": 3,
   "metadata": {},
   "outputs": [
    {
     "data": {
      "text/html": [
       "<div>\n",
       "<style scoped>\n",
       "    .dataframe tbody tr th:only-of-type {\n",
       "        vertical-align: middle;\n",
       "    }\n",
       "\n",
       "    .dataframe tbody tr th {\n",
       "        vertical-align: top;\n",
       "    }\n",
       "\n",
       "    .dataframe thead th {\n",
       "        text-align: right;\n",
       "    }\n",
       "</style>\n",
       "<table border=\"1\" class=\"dataframe\">\n",
       "  <thead>\n",
       "    <tr style=\"text-align: right;\">\n",
       "      <th></th>\n",
       "      <th>State</th>\n",
       "      <th>Year</th>\n",
       "      <th>Type_code</th>\n",
       "      <th>Type</th>\n",
       "      <th>Gender</th>\n",
       "      <th>Age_group</th>\n",
       "      <th>Total</th>\n",
       "    </tr>\n",
       "  </thead>\n",
       "  <tbody>\n",
       "    <tr>\n",
       "      <th>0</th>\n",
       "      <td>A &amp; N Islands</td>\n",
       "      <td>2001</td>\n",
       "      <td>Causes</td>\n",
       "      <td>Illness (Aids/STD)</td>\n",
       "      <td>Female</td>\n",
       "      <td>0-14</td>\n",
       "      <td>0</td>\n",
       "    </tr>\n",
       "    <tr>\n",
       "      <th>1</th>\n",
       "      <td>A &amp; N Islands</td>\n",
       "      <td>2001</td>\n",
       "      <td>Causes</td>\n",
       "      <td>Bankruptcy or Sudden change in Economic</td>\n",
       "      <td>Female</td>\n",
       "      <td>0-14</td>\n",
       "      <td>0</td>\n",
       "    </tr>\n",
       "    <tr>\n",
       "      <th>2</th>\n",
       "      <td>A &amp; N Islands</td>\n",
       "      <td>2001</td>\n",
       "      <td>Causes</td>\n",
       "      <td>Cancellation/Non-Settlement of Marriage</td>\n",
       "      <td>Female</td>\n",
       "      <td>0-14</td>\n",
       "      <td>0</td>\n",
       "    </tr>\n",
       "    <tr>\n",
       "      <th>3</th>\n",
       "      <td>A &amp; N Islands</td>\n",
       "      <td>2001</td>\n",
       "      <td>Causes</td>\n",
       "      <td>Physical Abuse (Rape/Incest Etc.)</td>\n",
       "      <td>Female</td>\n",
       "      <td>0-14</td>\n",
       "      <td>0</td>\n",
       "    </tr>\n",
       "    <tr>\n",
       "      <th>4</th>\n",
       "      <td>A &amp; N Islands</td>\n",
       "      <td>2001</td>\n",
       "      <td>Causes</td>\n",
       "      <td>Dowry Dispute</td>\n",
       "      <td>Female</td>\n",
       "      <td>0-14</td>\n",
       "      <td>0</td>\n",
       "    </tr>\n",
       "  </tbody>\n",
       "</table>\n",
       "</div>"
      ],
      "text/plain": [
       "           State  Year Type_code                                     Type  \\\n",
       "0  A & N Islands  2001    Causes                       Illness (Aids/STD)   \n",
       "1  A & N Islands  2001    Causes  Bankruptcy or Sudden change in Economic   \n",
       "2  A & N Islands  2001    Causes  Cancellation/Non-Settlement of Marriage   \n",
       "3  A & N Islands  2001    Causes        Physical Abuse (Rape/Incest Etc.)   \n",
       "4  A & N Islands  2001    Causes                            Dowry Dispute   \n",
       "\n",
       "   Gender Age_group  Total  \n",
       "0  Female      0-14      0  \n",
       "1  Female      0-14      0  \n",
       "2  Female      0-14      0  \n",
       "3  Female      0-14      0  \n",
       "4  Female      0-14      0  "
      ]
     },
     "execution_count": 3,
     "metadata": {},
     "output_type": "execute_result"
    }
   ],
   "source": [
    "# read csv file\n",
    "\n",
    "df = pd.read_csv('Suicides in India 2001-2012.csv')\n",
    "\n",
    "df.head()"
   ]
  },
  {
   "cell_type": "code",
   "execution_count": 4,
   "metadata": {},
   "outputs": [
    {
     "name": "stdout",
     "output_type": "stream",
     "text": [
      "<class 'pandas.core.frame.DataFrame'>\n",
      "RangeIndex: 237519 entries, 0 to 237518\n",
      "Data columns (total 7 columns):\n",
      "State        237519 non-null object\n",
      "Year         237519 non-null int64\n",
      "Type_code    237519 non-null object\n",
      "Type         237519 non-null object\n",
      "Gender       237519 non-null object\n",
      "Age_group    237519 non-null object\n",
      "Total        237519 non-null int64\n",
      "dtypes: int64(2), object(5)\n",
      "memory usage: 12.7+ MB\n"
     ]
    }
   ],
   "source": [
    "df.info()"
   ]
  },
  {
   "cell_type": "code",
   "execution_count": 5,
   "metadata": {},
   "outputs": [
    {
     "data": {
      "text/plain": [
       "False"
      ]
     },
     "execution_count": 5,
     "metadata": {},
     "output_type": "execute_result"
    }
   ],
   "source": [
    "df.duplicated().any()"
   ]
  },
  {
   "cell_type": "code",
   "execution_count": 6,
   "metadata": {},
   "outputs": [
    {
     "data": {
      "text/html": [
       "<div>\n",
       "<style scoped>\n",
       "    .dataframe tbody tr th:only-of-type {\n",
       "        vertical-align: middle;\n",
       "    }\n",
       "\n",
       "    .dataframe tbody tr th {\n",
       "        vertical-align: top;\n",
       "    }\n",
       "\n",
       "    .dataframe thead th {\n",
       "        text-align: right;\n",
       "    }\n",
       "</style>\n",
       "<table border=\"1\" class=\"dataframe\">\n",
       "  <thead>\n",
       "    <tr style=\"text-align: right;\">\n",
       "      <th></th>\n",
       "      <th>State</th>\n",
       "      <th>Year</th>\n",
       "      <th>Type_code</th>\n",
       "      <th>Type</th>\n",
       "      <th>Gender</th>\n",
       "      <th>Age_group</th>\n",
       "      <th>Total</th>\n",
       "    </tr>\n",
       "  </thead>\n",
       "  <tbody>\n",
       "    <tr>\n",
       "      <th>192452</th>\n",
       "      <td>Rajasthan</td>\n",
       "      <td>2006</td>\n",
       "      <td>Professional_Profile</td>\n",
       "      <td>House Wife</td>\n",
       "      <td>Female</td>\n",
       "      <td>15-29</td>\n",
       "      <td>487</td>\n",
       "    </tr>\n",
       "    <tr>\n",
       "      <th>102486</th>\n",
       "      <td>Jharkhand</td>\n",
       "      <td>2002</td>\n",
       "      <td>Social_Status</td>\n",
       "      <td>Widowed/Widower</td>\n",
       "      <td>Male</td>\n",
       "      <td>0-100+</td>\n",
       "      <td>24</td>\n",
       "    </tr>\n",
       "    <tr>\n",
       "      <th>37532</th>\n",
       "      <td>Chandigarh</td>\n",
       "      <td>2007</td>\n",
       "      <td>Means_adopted</td>\n",
       "      <td>By Jumping from (Other sites)</td>\n",
       "      <td>Female</td>\n",
       "      <td>45-59</td>\n",
       "      <td>0</td>\n",
       "    </tr>\n",
       "    <tr>\n",
       "      <th>137794</th>\n",
       "      <td>Maharashtra</td>\n",
       "      <td>2005</td>\n",
       "      <td>Means_adopted</td>\n",
       "      <td>By Jumping off Moving Vehicles/Trains</td>\n",
       "      <td>Female</td>\n",
       "      <td>30-44</td>\n",
       "      <td>4</td>\n",
       "    </tr>\n",
       "    <tr>\n",
       "      <th>172327</th>\n",
       "      <td>Odisha</td>\n",
       "      <td>2007</td>\n",
       "      <td>Causes</td>\n",
       "      <td>Illegitimate Pregnancy</td>\n",
       "      <td>Female</td>\n",
       "      <td>15-29</td>\n",
       "      <td>13</td>\n",
       "    </tr>\n",
       "    <tr>\n",
       "      <th>125637</th>\n",
       "      <td>Lakshadweep</td>\n",
       "      <td>2008</td>\n",
       "      <td>Causes</td>\n",
       "      <td>Illness (Aids/STD)</td>\n",
       "      <td>Female</td>\n",
       "      <td>0-14</td>\n",
       "      <td>0</td>\n",
       "    </tr>\n",
       "    <tr>\n",
       "      <th>28961</th>\n",
       "      <td>Bihar</td>\n",
       "      <td>2004</td>\n",
       "      <td>Education_Status</td>\n",
       "      <td>Hr. Secondary/Intermediate/Pre-Universit</td>\n",
       "      <td>Male</td>\n",
       "      <td>0-100+</td>\n",
       "      <td>14</td>\n",
       "    </tr>\n",
       "    <tr>\n",
       "      <th>41585</th>\n",
       "      <td>Chhattisgarh</td>\n",
       "      <td>2002</td>\n",
       "      <td>Professional_Profile</td>\n",
       "      <td>Unemployed</td>\n",
       "      <td>Female</td>\n",
       "      <td>45-59</td>\n",
       "      <td>0</td>\n",
       "    </tr>\n",
       "    <tr>\n",
       "      <th>13653</th>\n",
       "      <td>Arunachal Pradesh</td>\n",
       "      <td>2001</td>\n",
       "      <td>Causes</td>\n",
       "      <td>Drug Abuse/Addiction</td>\n",
       "      <td>Male</td>\n",
       "      <td>30-44</td>\n",
       "      <td>0</td>\n",
       "    </tr>\n",
       "    <tr>\n",
       "      <th>133406</th>\n",
       "      <td>Madhya Pradesh</td>\n",
       "      <td>2009</td>\n",
       "      <td>Professional_Profile</td>\n",
       "      <td>Unemployed</td>\n",
       "      <td>Male</td>\n",
       "      <td>15-29</td>\n",
       "      <td>160</td>\n",
       "    </tr>\n",
       "  </tbody>\n",
       "</table>\n",
       "</div>"
      ],
      "text/plain": [
       "                    State  Year             Type_code  \\\n",
       "192452          Rajasthan  2006  Professional_Profile   \n",
       "102486          Jharkhand  2002         Social_Status   \n",
       "37532          Chandigarh  2007         Means_adopted   \n",
       "137794        Maharashtra  2005         Means_adopted   \n",
       "172327             Odisha  2007                Causes   \n",
       "125637        Lakshadweep  2008                Causes   \n",
       "28961               Bihar  2004      Education_Status   \n",
       "41585        Chhattisgarh  2002  Professional_Profile   \n",
       "13653   Arunachal Pradesh  2001                Causes   \n",
       "133406     Madhya Pradesh  2009  Professional_Profile   \n",
       "\n",
       "                                            Type  Gender Age_group  Total  \n",
       "192452                                House Wife  Female     15-29    487  \n",
       "102486                           Widowed/Widower    Male    0-100+     24  \n",
       "37532              By Jumping from (Other sites)  Female     45-59      0  \n",
       "137794     By Jumping off Moving Vehicles/Trains  Female     30-44      4  \n",
       "172327                    Illegitimate Pregnancy  Female     15-29     13  \n",
       "125637                        Illness (Aids/STD)  Female      0-14      0  \n",
       "28961   Hr. Secondary/Intermediate/Pre-Universit    Male    0-100+     14  \n",
       "41585                                 Unemployed  Female     45-59      0  \n",
       "13653                       Drug Abuse/Addiction    Male     30-44      0  \n",
       "133406                                Unemployed    Male     15-29    160  "
      ]
     },
     "execution_count": 6,
     "metadata": {},
     "output_type": "execute_result"
    }
   ],
   "source": [
    "df.sample(10)"
   ]
  },
  {
   "cell_type": "code",
   "execution_count": 7,
   "metadata": {},
   "outputs": [
    {
     "data": {
      "text/plain": [
       "Causes                  109200\n",
       "Means_adopted            67200\n",
       "Professional_Profile     49263\n",
       "Education_Status          7296\n",
       "Social_Status             4560\n",
       "Name: Type_code, dtype: int64"
      ]
     },
     "execution_count": 7,
     "metadata": {},
     "output_type": "execute_result"
    }
   ],
   "source": [
    "df.Type_code.value_counts()"
   ]
  },
  {
   "cell_type": "code",
   "execution_count": 8,
   "metadata": {},
   "outputs": [
    {
     "data": {
      "text/plain": [
       "Others (Please Specify)                           7263\n",
       "By Overdose of sleeping pills                     4200\n",
       "Death of Dear Person                              4200\n",
       "Retired Person                                    4200\n",
       "Professional/Career Problem                       4200\n",
       "Suspected/Illicit Relation                        4200\n",
       "Insanity/Mental Illness                           4200\n",
       "Paralysis                                         4200\n",
       "Physical Abuse (Rape/Incest Etc.)                 4200\n",
       "Ideological Causes/Hero Worshipping               4200\n",
       "Love Affairs                                      4200\n",
       "Cancer                                            4200\n",
       "By Machine                                        4200\n",
       "By Jumping from (Building)                        4200\n",
       "Cancellation/Non-Settlement of Marriage           4200\n",
       "By Consuming Other Poison                         4200\n",
       "By Fire-Arms                                      4200\n",
       "Dowry Dispute                                     4200\n",
       "Service (Government)                              4200\n",
       "Professional Activity                             4200\n",
       "Fall in Social Reputation                         4200\n",
       "By Self Infliction of injury                      4200\n",
       "Other Causes (Please Specity)                     4200\n",
       "Other Prolonged Illness                           4200\n",
       "By Jumping from (Other sites)                     4200\n",
       "Divorce                                           4200\n",
       "By Consuming Insecticides                         4200\n",
       "House Wife                                        4200\n",
       "Service (Private)                                 4200\n",
       "Drug Abuse/Addiction                              4200\n",
       "                                                  ... \n",
       "Illness (Aids/STD)                                4200\n",
       "Unemployment                                      4200\n",
       "Illegitimate Pregnancy                            4200\n",
       "By touching electric wires                        4200\n",
       "Student                                           4200\n",
       "By Hanging                                        4200\n",
       "Farming/Agriculture Activity                      4200\n",
       "Property Dispute                                  4200\n",
       "Family Problems                                   4200\n",
       "By Fire/Self Immolation                           4200\n",
       "Public Sector Undertaking                         4200\n",
       "Bankruptcy or Sudden change in Economic           3850\n",
       "Not having Children(Barrenness/Impotency          3850\n",
       "By Other means (please specify)                   3850\n",
       "Middle                                             912\n",
       "No Education                                       912\n",
       "Graduate                                           912\n",
       "Divorcee                                           912\n",
       "Diploma                                            912\n",
       "Post Graduate and Above                            912\n",
       "Seperated                                          912\n",
       "Married                                            912\n",
       "Widowed/Widower                                    912\n",
       "Hr. Secondary/Intermediate/Pre-Universit           912\n",
       "Primary                                            912\n",
       "Matriculate/Secondary                              912\n",
       "Never Married                                      912\n",
       "Not having Children (Barrenness/Impotency          350\n",
       "Bankruptcy or Sudden change in Economic Status     350\n",
       "By Other means                                     350\n",
       "Name: Type, Length: 69, dtype: int64"
      ]
     },
     "execution_count": 8,
     "metadata": {},
     "output_type": "execute_result"
    }
   ],
   "source": [
    "df.Type.value_counts()"
   ]
  },
  {
   "cell_type": "code",
   "execution_count": 9,
   "metadata": {},
   "outputs": [
    {
     "data": {
      "text/plain": [
       "135481"
      ]
     },
     "execution_count": 9,
     "metadata": {},
     "output_type": "execute_result"
    }
   ],
   "source": [
    "len(df[df['Total'] == 0])"
   ]
  },
  {
   "cell_type": "code",
   "execution_count": 10,
   "metadata": {},
   "outputs": [
    {
     "data": {
      "text/plain": [
       "Maharashtra          6792\n",
       "Madhya Pradesh       6792\n",
       "Karnataka            6792\n",
       "Andhra Pradesh       6791\n",
       "Odisha               6791\n",
       "Rajasthan            6791\n",
       "Haryana              6790\n",
       "Chhattisgarh         6790\n",
       "Bihar                6790\n",
       "Kerala               6788\n",
       "Uttar Pradesh        6787\n",
       "Tamil Nadu           6786\n",
       "Assam                6786\n",
       "Gujarat              6786\n",
       "Jharkhand            6785\n",
       "Delhi (Ut)           6782\n",
       "Tripura              6782\n",
       "West Bengal          6780\n",
       "Punjab               6779\n",
       "Himachal Pradesh     6774\n",
       "Jammu & Kashmir      6761\n",
       "Goa                  6759\n",
       "Uttarakhand          6758\n",
       "Sikkim               6742\n",
       "Mizoram              6737\n",
       "Meghalaya            6733\n",
       "Puducherry           6730\n",
       "Chandigarh           6717\n",
       "A & N Islands        6712\n",
       "Daman & Diu          6710\n",
       "Arunachal Pradesh    6707\n",
       "Nagaland             6705\n",
       "D & N Haveli         6704\n",
       "Manipur              6700\n",
       "Lakshadweep          6674\n",
       "Total (Uts)           312\n",
       "Total (States)        312\n",
       "Total (All India)     312\n",
       "Name: State, dtype: int64"
      ]
     },
     "execution_count": 10,
     "metadata": {},
     "output_type": "execute_result"
    }
   ],
   "source": [
    "df.State.value_counts()"
   ]
  },
  {
   "cell_type": "code",
   "execution_count": 11,
   "metadata": {},
   "outputs": [
    {
     "data": {
      "text/plain": [
       "15-29     45223\n",
       "30-44     45193\n",
       "45-59     45146\n",
       "60+       45074\n",
       "0-14      45027\n",
       "0-100+    11856\n",
       "Name: Age_group, dtype: int64"
      ]
     },
     "execution_count": 11,
     "metadata": {},
     "output_type": "execute_result"
    }
   ],
   "source": [
    "df.Age_group.value_counts()"
   ]
  },
  {
   "cell_type": "markdown",
   "metadata": {},
   "source": [
    "### Data Wrangling"
   ]
  },
  {
   "cell_type": "markdown",
   "metadata": {},
   "source": [
    "<ul>\n",
    "<li> Drop rows whose total is zero</li>\n",
    "<li> Drop rows where state is \"Total %\"</li>    \n",
    "</ul>    "
   ]
  },
  {
   "cell_type": "code",
   "execution_count": 12,
   "metadata": {},
   "outputs": [],
   "source": [
    "# Drop rows where total is zero.\n",
    "\n",
    "df = df.drop(df[df.Total==0].index)"
   ]
  },
  {
   "cell_type": "code",
   "execution_count": 13,
   "metadata": {},
   "outputs": [
    {
     "data": {
      "text/html": [
       "<div>\n",
       "<style scoped>\n",
       "    .dataframe tbody tr th:only-of-type {\n",
       "        vertical-align: middle;\n",
       "    }\n",
       "\n",
       "    .dataframe tbody tr th {\n",
       "        vertical-align: top;\n",
       "    }\n",
       "\n",
       "    .dataframe thead th {\n",
       "        text-align: right;\n",
       "    }\n",
       "</style>\n",
       "<table border=\"1\" class=\"dataframe\">\n",
       "  <thead>\n",
       "    <tr style=\"text-align: right;\">\n",
       "      <th></th>\n",
       "      <th>State</th>\n",
       "      <th>Year</th>\n",
       "      <th>Type_code</th>\n",
       "      <th>Type</th>\n",
       "      <th>Gender</th>\n",
       "      <th>Age_group</th>\n",
       "      <th>Total</th>\n",
       "    </tr>\n",
       "  </thead>\n",
       "  <tbody>\n",
       "  </tbody>\n",
       "</table>\n",
       "</div>"
      ],
      "text/plain": [
       "Empty DataFrame\n",
       "Columns: [State, Year, Type_code, Type, Gender, Age_group, Total]\n",
       "Index: []"
      ]
     },
     "execution_count": 13,
     "metadata": {},
     "output_type": "execute_result"
    }
   ],
   "source": [
    "df[df['Total']==0]"
   ]
  },
  {
   "cell_type": "code",
   "execution_count": 14,
   "metadata": {},
   "outputs": [],
   "source": [
    "df = df.drop(df[(df.State == 'Total (Uts)') | (df.State == 'Total (All India)') | \n",
    "               (df.State == 'Total (States)')].index)"
   ]
  },
  {
   "cell_type": "code",
   "execution_count": 15,
   "metadata": {},
   "outputs": [
    {
     "data": {
      "text/plain": [
       "Andhra Pradesh       5185\n",
       "Karnataka            5115\n",
       "Tamil Nadu           5054\n",
       "Madhya Pradesh       5029\n",
       "Maharashtra          4958\n",
       "Uttar Pradesh        4954\n",
       "Gujarat              4856\n",
       "West Bengal          4596\n",
       "Kerala               4509\n",
       "Chhattisgarh         4368\n",
       "Rajasthan            4324\n",
       "Odisha               4179\n",
       "Assam                3868\n",
       "Haryana              3826\n",
       "Delhi (Ut)           3324\n",
       "Jharkhand            3210\n",
       "Bihar                3119\n",
       "Punjab               2960\n",
       "Himachal Pradesh     2650\n",
       "Tripura              2451\n",
       "Uttarakhand          2442\n",
       "Goa                  2237\n",
       "Jammu & Kashmir      2159\n",
       "Puducherry           2124\n",
       "Sikkim               1421\n",
       "A & N Islands        1299\n",
       "Meghalaya            1180\n",
       "Chandigarh           1092\n",
       "Arunachal Pradesh    1062\n",
       "D & N Haveli          952\n",
       "Mizoram               786\n",
       "Manipur               609\n",
       "Nagaland              587\n",
       "Daman & Diu           579\n",
       "Lakshadweep            46\n",
       "Name: State, dtype: int64"
      ]
     },
     "execution_count": 15,
     "metadata": {},
     "output_type": "execute_result"
    }
   ],
   "source": [
    "df.State.value_counts()"
   ]
  },
  {
   "cell_type": "markdown",
   "metadata": {},
   "source": [
    "### EDA"
   ]
  },
  {
   "cell_type": "code",
   "execution_count": 54,
   "metadata": {},
   "outputs": [
    {
     "data": {
      "image/png": "[encoded data removed]",
      "text/plain": [
       "<Figure size 360x360 with 1 Axes>"
      ]
     },
     "metadata": {
      "needs_background": "light"
     },
     "output_type": "display_data"
    }
   ],
   "source": [
    "#Gender Suicide Frequency\n",
    "gender = df.groupby('Gender').sum()['Total'].plot(\"bar\", figsize=(5,5), title =\"Gender wise suicides\");\n",
    "gender.set_xlabel('\\nGender')\n",
    "gender.set_ylabel('Count\\n');"
   ]
  },
  {
   "cell_type": "code",
   "execution_count": 50,
   "metadata": {},
   "outputs": [
    {
     "data": {
      "image/png": "[encoded data removed]",
      "text/plain": [
       "<Figure size 576x360 with 1 Axes>"
      ]
     },
     "metadata": {
      "needs_background": "light"
     },
     "output_type": "display_data"
    }
   ],
   "source": [
    "# Age Suicide Frequency\n",
    "df_Age = df[df['Age_group']!='0-100+']\n",
    "\n",
    "age = df_Age.groupby('Age_group').sum()['Total'].plot(\"bar\",figsize=(8,5), title =\"Age wise suicides frequency\");\n",
    "age.set_xlabel('\\nAge Group')\n",
    "age.set_ylabel('Counts\\n');"
   ]
  },
  {
   "cell_type": "code",
   "execution_count": 62,
   "metadata": {},
   "outputs": [
    {
     "data": {
      "image/png": "[encoded data removed]",
      "text/plain": [
       "<Figure size 432x432 with 1 Axes>"
      ]
     },
     "metadata": {
      "needs_background": "light"
     },
     "output_type": "display_data"
    }
   ],
   "source": [
    "# Suicide rate every year\n",
    "\n",
    "year = df.groupby('Year').sum()['Total'].plot('line', figsize=(6,6), title = 'Suicide rate per year');\n",
    "year.set_xlabel('\\nYear')\n",
    "year.set_ylabel('Count\\n');"
   ]
  },
  {
   "cell_type": "code",
   "execution_count": null,
   "metadata": {},
   "outputs": [],
   "source": []
  },
  {
   "cell_type": "code",
   "execution_count": null,
   "metadata": {},
   "outputs": [],
   "source": []
  }
 ],
 "metadata": {
  "kernelspec": {
   "display_name": "Python 3",
   "language": "python",
   "name": "python3"
  },
  "language_info": {
   "codemirror_mode": {
    "name": "ipython",
    "version": 3
   },
   "file_extension": ".py",
   "mimetype": "text/x-python",
   "name": "python",
   "nbconvert_exporter": "python",
   "pygments_lexer": "ipython3",
   "version": "3.7.1"
  }
 },
 "nbformat": 4,
 "nbformat_minor": 2
}
