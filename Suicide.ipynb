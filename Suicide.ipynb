{
 "cells": [
  {
   "cell_type": "markdown",
   "metadata": {},
   "source": [
    "# Analysis of Suicide in India"
   ]
  },
  {
   "cell_type": "markdown",
   "metadata": {},
   "source": [
    "## Warning - If you're having suicidal thoughts, please call suicide helpline! \n",
    "\n",
    "Suicide helpline numbers - http://www.suicide.org/international-suicide-hotlines.html\n"
   ]
  },
  {
   "cell_type": "markdown",
   "metadata": {},
   "source": [
    "This dataset contains data from 2001 -2012.\n",
    "\n",
    "Source - https://www.kaggle.com/rajanand/suicides-in-india"
   ]
  },
  {
   "cell_type": "code",
   "execution_count": 22,
   "metadata": {},
   "outputs": [],
   "source": [
    "# import packages\n",
    "\n",
    "import numpy as np\n",
    "import pandas as pd"
   ]
  },
  {
   "cell_type": "code",
   "execution_count": 23,
   "metadata": {},
   "outputs": [
    {
     "data": {
      "text/html": [
       "<div>\n",
       "<style scoped>\n",
       "    .dataframe tbody tr th:only-of-type {\n",
       "        vertical-align: middle;\n",
       "    }\n",
       "\n",
       "    .dataframe tbody tr th {\n",
       "        vertical-align: top;\n",
       "    }\n",
       "\n",
       "    .dataframe thead th {\n",
       "        text-align: right;\n",
       "    }\n",
       "</style>\n",
       "<table border=\"1\" class=\"dataframe\">\n",
       "  <thead>\n",
       "    <tr style=\"text-align: right;\">\n",
       "      <th></th>\n",
       "      <th>State</th>\n",
       "      <th>Year</th>\n",
       "      <th>Type_code</th>\n",
       "      <th>Type</th>\n",
       "      <th>Gender</th>\n",
       "      <th>Age_group</th>\n",
       "      <th>Total</th>\n",
       "    </tr>\n",
       "  </thead>\n",
       "  <tbody>\n",
       "    <tr>\n",
       "      <th>0</th>\n",
       "      <td>A &amp; N Islands</td>\n",
       "      <td>2001</td>\n",
       "      <td>Causes</td>\n",
       "      <td>Illness (Aids/STD)</td>\n",
       "      <td>Female</td>\n",
       "      <td>0-14</td>\n",
       "      <td>0</td>\n",
       "    </tr>\n",
       "    <tr>\n",
       "      <th>1</th>\n",
       "      <td>A &amp; N Islands</td>\n",
       "      <td>2001</td>\n",
       "      <td>Causes</td>\n",
       "      <td>Bankruptcy or Sudden change in Economic</td>\n",
       "      <td>Female</td>\n",
       "      <td>0-14</td>\n",
       "      <td>0</td>\n",
       "    </tr>\n",
       "    <tr>\n",
       "      <th>2</th>\n",
       "      <td>A &amp; N Islands</td>\n",
       "      <td>2001</td>\n",
       "      <td>Causes</td>\n",
       "      <td>Cancellation/Non-Settlement of Marriage</td>\n",
       "      <td>Female</td>\n",
       "      <td>0-14</td>\n",
       "      <td>0</td>\n",
       "    </tr>\n",
       "    <tr>\n",
       "      <th>3</th>\n",
       "      <td>A &amp; N Islands</td>\n",
       "      <td>2001</td>\n",
       "      <td>Causes</td>\n",
       "      <td>Physical Abuse (Rape/Incest Etc.)</td>\n",
       "      <td>Female</td>\n",
       "      <td>0-14</td>\n",
       "      <td>0</td>\n",
       "    </tr>\n",
       "    <tr>\n",
       "      <th>4</th>\n",
       "      <td>A &amp; N Islands</td>\n",
       "      <td>2001</td>\n",
       "      <td>Causes</td>\n",
       "      <td>Dowry Dispute</td>\n",
       "      <td>Female</td>\n",
       "      <td>0-14</td>\n",
       "      <td>0</td>\n",
       "    </tr>\n",
       "  </tbody>\n",
       "</table>\n",
       "</div>"
      ],
      "text/plain": [
       "           State  Year Type_code                                     Type  \\\n",
       "0  A & N Islands  2001    Causes                       Illness (Aids/STD)   \n",
       "1  A & N Islands  2001    Causes  Bankruptcy or Sudden change in Economic   \n",
       "2  A & N Islands  2001    Causes  Cancellation/Non-Settlement of Marriage   \n",
       "3  A & N Islands  2001    Causes        Physical Abuse (Rape/Incest Etc.)   \n",
       "4  A & N Islands  2001    Causes                            Dowry Dispute   \n",
       "\n",
       "   Gender Age_group  Total  \n",
       "0  Female      0-14      0  \n",
       "1  Female      0-14      0  \n",
       "2  Female      0-14      0  \n",
       "3  Female      0-14      0  \n",
       "4  Female      0-14      0  "
      ]
     },
     "execution_count": 23,
     "metadata": {},
     "output_type": "execute_result"
    }
   ],
   "source": [
    "# read csv file\n",
    "\n",
    "df = pd.read_csv('Suicides in India 2001-2012.csv')\n",
    "\n",
    "df.head()"
   ]
  },
  {
   "cell_type": "code",
   "execution_count": 24,
   "metadata": {},
   "outputs": [
    {
     "name": "stdout",
     "output_type": "stream",
     "text": [
      "<class 'pandas.core.frame.DataFrame'>\n",
      "RangeIndex: 237519 entries, 0 to 237518\n",
      "Data columns (total 7 columns):\n",
      "State        237519 non-null object\n",
      "Year         237519 non-null int64\n",
      "Type_code    237519 non-null object\n",
      "Type         237519 non-null object\n",
      "Gender       237519 non-null object\n",
      "Age_group    237519 non-null object\n",
      "Total        237519 non-null int64\n",
      "dtypes: int64(2), object(5)\n",
      "memory usage: 12.7+ MB\n"
     ]
    }
   ],
   "source": [
    "df.info()"
   ]
  },
  {
   "cell_type": "code",
   "execution_count": 25,
   "metadata": {},
   "outputs": [
    {
     "data": {
      "text/plain": [
       "False"
      ]
     },
     "execution_count": 25,
     "metadata": {},
     "output_type": "execute_result"
    }
   ],
   "source": [
    "df.duplicated().any()"
   ]
  },
  {
   "cell_type": "code",
   "execution_count": 26,
   "metadata": {},
   "outputs": [
    {
     "data": {
      "text/html": [
       "<div>\n",
       "<style scoped>\n",
       "    .dataframe tbody tr th:only-of-type {\n",
       "        vertical-align: middle;\n",
       "    }\n",
       "\n",
       "    .dataframe tbody tr th {\n",
       "        vertical-align: top;\n",
       "    }\n",
       "\n",
       "    .dataframe thead th {\n",
       "        text-align: right;\n",
       "    }\n",
       "</style>\n",
       "<table border=\"1\" class=\"dataframe\">\n",
       "  <thead>\n",
       "    <tr style=\"text-align: right;\">\n",
       "      <th></th>\n",
       "      <th>State</th>\n",
       "      <th>Year</th>\n",
       "      <th>Type_code</th>\n",
       "      <th>Type</th>\n",
       "      <th>Gender</th>\n",
       "      <th>Age_group</th>\n",
       "      <th>Total</th>\n",
       "    </tr>\n",
       "  </thead>\n",
       "  <tbody>\n",
       "    <tr>\n",
       "      <th>216679</th>\n",
       "      <td>Tripura</td>\n",
       "      <td>2012</td>\n",
       "      <td>Causes</td>\n",
       "      <td>Cancer</td>\n",
       "      <td>Male</td>\n",
       "      <td>0-14</td>\n",
       "      <td>0</td>\n",
       "    </tr>\n",
       "    <tr>\n",
       "      <th>33524</th>\n",
       "      <td>Bihar</td>\n",
       "      <td>2012</td>\n",
       "      <td>Means_adopted</td>\n",
       "      <td>By Drowning</td>\n",
       "      <td>Male</td>\n",
       "      <td>0-14</td>\n",
       "      <td>0</td>\n",
       "    </tr>\n",
       "    <tr>\n",
       "      <th>3839</th>\n",
       "      <td>A &amp; N Islands</td>\n",
       "      <td>2007</td>\n",
       "      <td>Professional_Profile</td>\n",
       "      <td>Public Sector Undertaking</td>\n",
       "      <td>Female</td>\n",
       "      <td>30-44</td>\n",
       "      <td>0</td>\n",
       "    </tr>\n",
       "    <tr>\n",
       "      <th>156924</th>\n",
       "      <td>Mizoram</td>\n",
       "      <td>2003</td>\n",
       "      <td>Means_adopted</td>\n",
       "      <td>By Over Alcoholism</td>\n",
       "      <td>Female</td>\n",
       "      <td>45-59</td>\n",
       "      <td>0</td>\n",
       "    </tr>\n",
       "    <tr>\n",
       "      <th>209494</th>\n",
       "      <td>Total (All India)</td>\n",
       "      <td>2001</td>\n",
       "      <td>Social_Status</td>\n",
       "      <td>Seperated</td>\n",
       "      <td>Female</td>\n",
       "      <td>0-100+</td>\n",
       "      <td>1137</td>\n",
       "    </tr>\n",
       "    <tr>\n",
       "      <th>48084</th>\n",
       "      <td>D &amp; N Haveli</td>\n",
       "      <td>2002</td>\n",
       "      <td>Causes</td>\n",
       "      <td>Death of Dear Person</td>\n",
       "      <td>Female</td>\n",
       "      <td>60+</td>\n",
       "      <td>0</td>\n",
       "    </tr>\n",
       "    <tr>\n",
       "      <th>86297</th>\n",
       "      <td>Haryana</td>\n",
       "      <td>2010</td>\n",
       "      <td>Causes</td>\n",
       "      <td>Drug Abuse/Addiction</td>\n",
       "      <td>Female</td>\n",
       "      <td>45-59</td>\n",
       "      <td>0</td>\n",
       "    </tr>\n",
       "    <tr>\n",
       "      <th>74796</th>\n",
       "      <td>Gujarat</td>\n",
       "      <td>2001</td>\n",
       "      <td>Professional_Profile</td>\n",
       "      <td>Public Sector Undertaking</td>\n",
       "      <td>Male</td>\n",
       "      <td>60+</td>\n",
       "      <td>2</td>\n",
       "    </tr>\n",
       "    <tr>\n",
       "      <th>131921</th>\n",
       "      <td>Madhya Pradesh</td>\n",
       "      <td>2007</td>\n",
       "      <td>Causes</td>\n",
       "      <td>Property Dispute</td>\n",
       "      <td>Female</td>\n",
       "      <td>30-44</td>\n",
       "      <td>6</td>\n",
       "    </tr>\n",
       "    <tr>\n",
       "      <th>71218</th>\n",
       "      <td>Goa</td>\n",
       "      <td>2007</td>\n",
       "      <td>Means_adopted</td>\n",
       "      <td>By Over Alcoholism</td>\n",
       "      <td>Female</td>\n",
       "      <td>30-44</td>\n",
       "      <td>0</td>\n",
       "    </tr>\n",
       "  </tbody>\n",
       "</table>\n",
       "</div>"
      ],
      "text/plain": [
       "                    State  Year             Type_code  \\\n",
       "216679            Tripura  2012                Causes   \n",
       "33524               Bihar  2012         Means_adopted   \n",
       "3839        A & N Islands  2007  Professional_Profile   \n",
       "156924            Mizoram  2003         Means_adopted   \n",
       "209494  Total (All India)  2001         Social_Status   \n",
       "48084        D & N Haveli  2002                Causes   \n",
       "86297             Haryana  2010                Causes   \n",
       "74796             Gujarat  2001  Professional_Profile   \n",
       "131921     Madhya Pradesh  2007                Causes   \n",
       "71218                 Goa  2007         Means_adopted   \n",
       "\n",
       "                             Type  Gender Age_group  Total  \n",
       "216679                     Cancer    Male      0-14      0  \n",
       "33524                 By Drowning    Male      0-14      0  \n",
       "3839    Public Sector Undertaking  Female     30-44      0  \n",
       "156924         By Over Alcoholism  Female     45-59      0  \n",
       "209494                  Seperated  Female    0-100+   1137  \n",
       "48084        Death of Dear Person  Female       60+      0  \n",
       "86297        Drug Abuse/Addiction  Female     45-59      0  \n",
       "74796   Public Sector Undertaking    Male       60+      2  \n",
       "131921           Property Dispute  Female     30-44      6  \n",
       "71218          By Over Alcoholism  Female     30-44      0  "
      ]
     },
     "execution_count": 26,
     "metadata": {},
     "output_type": "execute_result"
    }
   ],
   "source": [
    "df.sample(10)"
   ]
  },
  {
   "cell_type": "code",
   "execution_count": 27,
   "metadata": {},
   "outputs": [
    {
     "data": {
      "text/plain": [
       "Causes                  109200\n",
       "Means_adopted            67200\n",
       "Professional_Profile     49263\n",
       "Education_Status          7296\n",
       "Social_Status             4560\n",
       "Name: Type_code, dtype: int64"
      ]
     },
     "execution_count": 27,
     "metadata": {},
     "output_type": "execute_result"
    }
   ],
   "source": [
    "df.Type_code.value_counts()"
   ]
  },
  {
   "cell_type": "code",
   "execution_count": 28,
   "metadata": {},
   "outputs": [
    {
     "data": {
      "text/plain": [
       "Others (Please Specify)                           7263\n",
       "By Fire/Self Immolation                           4200\n",
       "Love Affairs                                      4200\n",
       "Farming/Agriculture Activity                      4200\n",
       "Suspected/Illicit Relation                        4200\n",
       "Family Problems                                   4200\n",
       "Fall in Social Reputation                         4200\n",
       "Dowry Dispute                                     4200\n",
       "By touching electric wires                        4200\n",
       "By Self Infliction of injury                      4200\n",
       "By Jumping from (Building)                        4200\n",
       "Professional/Career Problem                       4200\n",
       "Unemployed                                        4200\n",
       "By Jumping off Moving Vehicles/Trains             4200\n",
       "Insanity/Mental Illness                           4200\n",
       "House Wife                                        4200\n",
       "Other Causes (Please Specity)                     4200\n",
       "Public Sector Undertaking                         4200\n",
       "Unemployment                                      4200\n",
       "Property Dispute                                  4200\n",
       "Causes Not known                                  4200\n",
       "Poverty                                           4200\n",
       "Illness (Aids/STD)                                4200\n",
       "By Consuming Insecticides                         4200\n",
       "By coming under running vehicles/trains           4200\n",
       "Failure in Examination                            4200\n",
       "Paralysis                                         4200\n",
       "Professional Activity                             4200\n",
       "By Hanging                                        4200\n",
       "By Jumping from (Other sites)                     4200\n",
       "                                                  ... \n",
       "Retired Person                                    4200\n",
       "Service (Government)                              4200\n",
       "By Consuming Other Poison                         4200\n",
       "Cancellation/Non-Settlement of Marriage           4200\n",
       "Self-employed (Business activity)                 4200\n",
       "Ideological Causes/Hero Worshipping               4200\n",
       "Death of Dear Person                              4200\n",
       "Service (Private)                                 4200\n",
       "By Fire-Arms                                      4200\n",
       "Other Prolonged Illness                           4200\n",
       "By Overdose of sleeping pills                     4200\n",
       "Bankruptcy or Sudden change in Economic           3850\n",
       "By Other means (please specify)                   3850\n",
       "Not having Children(Barrenness/Impotency          3850\n",
       "Seperated                                          912\n",
       "Hr. Secondary/Intermediate/Pre-Universit           912\n",
       "Primary                                            912\n",
       "No Education                                       912\n",
       "Graduate                                           912\n",
       "Married                                            912\n",
       "Diploma                                            912\n",
       "Post Graduate and Above                            912\n",
       "Never Married                                      912\n",
       "Divorcee                                           912\n",
       "Middle                                             912\n",
       "Widowed/Widower                                    912\n",
       "Matriculate/Secondary                              912\n",
       "By Other means                                     350\n",
       "Bankruptcy or Sudden change in Economic Status     350\n",
       "Not having Children (Barrenness/Impotency          350\n",
       "Name: Type, Length: 69, dtype: int64"
      ]
     },
     "execution_count": 28,
     "metadata": {},
     "output_type": "execute_result"
    }
   ],
   "source": [
    "df.Type.value_counts()"
   ]
  },
  {
   "cell_type": "code",
   "execution_count": 29,
   "metadata": {},
   "outputs": [
    {
     "data": {
      "text/plain": [
       "135481"
      ]
     },
     "execution_count": 29,
     "metadata": {},
     "output_type": "execute_result"
    }
   ],
   "source": [
    "len(df[df['Total'] == 0])"
   ]
  },
  {
   "cell_type": "code",
   "execution_count": 30,
   "metadata": {},
   "outputs": [
    {
     "data": {
      "text/plain": [
       "Madhya Pradesh       6792\n",
       "Karnataka            6792\n",
       "Maharashtra          6792\n",
       "Odisha               6791\n",
       "Andhra Pradesh       6791\n",
       "Rajasthan            6791\n",
       "Chhattisgarh         6790\n",
       "Haryana              6790\n",
       "Bihar                6790\n",
       "Kerala               6788\n",
       "Uttar Pradesh        6787\n",
       "Assam                6786\n",
       "Gujarat              6786\n",
       "Tamil Nadu           6786\n",
       "Jharkhand            6785\n",
       "Delhi (Ut)           6782\n",
       "Tripura              6782\n",
       "West Bengal          6780\n",
       "Punjab               6779\n",
       "Himachal Pradesh     6774\n",
       "Jammu & Kashmir      6761\n",
       "Goa                  6759\n",
       "Uttarakhand          6758\n",
       "Sikkim               6742\n",
       "Mizoram              6737\n",
       "Meghalaya            6733\n",
       "Puducherry           6730\n",
       "Chandigarh           6717\n",
       "A & N Islands        6712\n",
       "Daman & Diu          6710\n",
       "Arunachal Pradesh    6707\n",
       "Nagaland             6705\n",
       "D & N Haveli         6704\n",
       "Manipur              6700\n",
       "Lakshadweep          6674\n",
       "Total (Uts)           312\n",
       "Total (All India)     312\n",
       "Total (States)        312\n",
       "Name: State, dtype: int64"
      ]
     },
     "execution_count": 30,
     "metadata": {},
     "output_type": "execute_result"
    }
   ],
   "source": [
    "df.State.value_counts()"
   ]
  },
  {
   "cell_type": "code",
   "execution_count": 31,
   "metadata": {},
   "outputs": [
    {
     "data": {
      "text/plain": [
       "15-29     45223\n",
       "30-44     45193\n",
       "45-59     45146\n",
       "60+       45074\n",
       "0-14      45027\n",
       "0-100+    11856\n",
       "Name: Age_group, dtype: int64"
      ]
     },
     "execution_count": 31,
     "metadata": {},
     "output_type": "execute_result"
    }
   ],
   "source": [
    "df.Age_group.value_counts()"
   ]
  },
  {
   "cell_type": "markdown",
   "metadata": {},
   "source": [
    "### Data Wrangling"
   ]
  },
  {
   "cell_type": "markdown",
   "metadata": {},
   "source": [
    "<ul>\n",
    "<li> Drop rows whose total is zero</li>\n",
    "<li> Drop rows where state is \"Total %\"</li>    \n",
    "</ul>    "
   ]
  },
  {
   "cell_type": "code",
   "execution_count": 32,
   "metadata": {},
   "outputs": [],
   "source": [
    "# Drop rows where total is zero.\n",
    "\n",
    "df = df.drop(df[df.Total==0].index)"
   ]
  },
  {
   "cell_type": "code",
   "execution_count": 33,
   "metadata": {},
   "outputs": [
    {
     "data": {
      "text/html": [
       "<div>\n",
       "<style scoped>\n",
       "    .dataframe tbody tr th:only-of-type {\n",
       "        vertical-align: middle;\n",
       "    }\n",
       "\n",
       "    .dataframe tbody tr th {\n",
       "        vertical-align: top;\n",
       "    }\n",
       "\n",
       "    .dataframe thead th {\n",
       "        text-align: right;\n",
       "    }\n",
       "</style>\n",
       "<table border=\"1\" class=\"dataframe\">\n",
       "  <thead>\n",
       "    <tr style=\"text-align: right;\">\n",
       "      <th></th>\n",
       "      <th>State</th>\n",
       "      <th>Year</th>\n",
       "      <th>Type_code</th>\n",
       "      <th>Type</th>\n",
       "      <th>Gender</th>\n",
       "      <th>Age_group</th>\n",
       "      <th>Total</th>\n",
       "    </tr>\n",
       "  </thead>\n",
       "  <tbody>\n",
       "  </tbody>\n",
       "</table>\n",
       "</div>"
      ],
      "text/plain": [
       "Empty DataFrame\n",
       "Columns: [State, Year, Type_code, Type, Gender, Age_group, Total]\n",
       "Index: []"
      ]
     },
     "execution_count": 33,
     "metadata": {},
     "output_type": "execute_result"
    }
   ],
   "source": [
    "df[df['Total']==0]"
   ]
  },
  {
   "cell_type": "code",
   "execution_count": 38,
   "metadata": {},
   "outputs": [],
   "source": [
    "df = df.drop(df[(df.State == 'Total (Uts)') | (df.State == 'Total (All India)') | \n",
    "               (df.State == 'Total (States)')].index)"
   ]
  },
  {
   "cell_type": "code",
   "execution_count": 39,
   "metadata": {},
   "outputs": [
    {
     "data": {
      "text/plain": [
       "Andhra Pradesh       5185\n",
       "Karnataka            5115\n",
       "Tamil Nadu           5054\n",
       "Madhya Pradesh       5029\n",
       "Maharashtra          4958\n",
       "Uttar Pradesh        4954\n",
       "Gujarat              4856\n",
       "West Bengal          4596\n",
       "Kerala               4509\n",
       "Chhattisgarh         4368\n",
       "Rajasthan            4324\n",
       "Odisha               4179\n",
       "Assam                3868\n",
       "Haryana              3826\n",
       "Delhi (Ut)           3324\n",
       "Jharkhand            3210\n",
       "Bihar                3119\n",
       "Punjab               2960\n",
       "Himachal Pradesh     2650\n",
       "Tripura              2451\n",
       "Uttarakhand          2442\n",
       "Goa                  2237\n",
       "Jammu & Kashmir      2159\n",
       "Puducherry           2124\n",
       "Sikkim               1421\n",
       "A & N Islands        1299\n",
       "Meghalaya            1180\n",
       "Chandigarh           1092\n",
       "Arunachal Pradesh    1062\n",
       "D & N Haveli          952\n",
       "Mizoram               786\n",
       "Manipur               609\n",
       "Nagaland              587\n",
       "Daman & Diu           579\n",
       "Lakshadweep            46\n",
       "Name: State, dtype: int64"
      ]
     },
     "execution_count": 39,
     "metadata": {},
     "output_type": "execute_result"
    }
   ],
   "source": [
    "df.State.value_counts()"
   ]
  },
  {
   "cell_type": "markdown",
   "metadata": {},
   "source": [
    "### Analysis"
   ]
  },
  {
   "cell_type": "code",
   "execution_count": null,
   "metadata": {},
   "outputs": [],
   "source": []
  }
 ],
 "metadata": {
  "kernelspec": {
   "display_name": "Python 3",
   "language": "python",
   "name": "python3"
  },
  "language_info": {
   "codemirror_mode": {
    "name": "ipython",
    "version": 3
   },
   "file_extension": ".py",
   "mimetype": "text/x-python",
   "name": "python",
   "nbconvert_exporter": "python",
   "pygments_lexer": "ipython3",
   "version": "3.7.1"
  }
 },
 "nbformat": 4,
 "nbformat_minor": 2
}
